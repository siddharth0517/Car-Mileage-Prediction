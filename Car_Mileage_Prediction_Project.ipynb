{
  "nbformat": 4,
  "nbformat_minor": 0,
  "metadata": {
    "colab": {
      "provenance": [],
      "authorship_tag": "ABX9TyP7SOrd0b+OmT/MPJI7o/hG",
      "include_colab_link": true
    },
    "kernelspec": {
      "name": "python3",
      "display_name": "Python 3"
    },
    "language_info": {
      "name": "python"
    }
  },
  "cells": [
    {
      "cell_type": "markdown",
      "metadata": {
        "id": "view-in-github",
        "colab_type": "text"
      },
      "source": [
        "<a href=\"https://colab.research.google.com/github/siddharth0517/Car-Mileage-Prediction/blob/main/Car_Mileage_Prediction_Project.ipynb\" target=\"_parent\"><img src=\"https://colab.research.google.com/assets/colab-badge.svg\" alt=\"Open In Colab\"/></a>"
      ]
    },
    {
      "cell_type": "markdown",
      "source": [
        "# Car Mileage Prediction Project"
      ],
      "metadata": {
        "id": "WurXUmEhTbC-"
      }
    },
    {
      "cell_type": "markdown",
      "source": [
        "**1. Importing reqired libraries**"
      ],
      "metadata": {
        "id": "VHUHdjP2Tey6"
      }
    },
    {
      "cell_type": "code",
      "execution_count": 1,
      "metadata": {
        "id": "noHYph37TX7W"
      },
      "outputs": [],
      "source": [
        "import numpy as np\n",
        "import pandas as pd\n",
        "import matplotlib.pyplot as plt"
      ]
    },
    {
      "cell_type": "markdown",
      "source": [
        "**2. Importing Dataset**"
      ],
      "metadata": {
        "id": "pGOk5JoWTm0g"
      }
    },
    {
      "cell_type": "code",
      "source": [
        "Dataset = pd.read_csv('auto-mpg.csv')\n"
      ],
      "metadata": {
        "id": "vED-3f-0TmS4"
      },
      "execution_count": 2,
      "outputs": []
    },
    {
      "cell_type": "code",
      "source": [
        "Dataset['horsepower'] = pd.to_numeric(Dataset['horsepower'], errors='coerce')\n",
        "\n",
        "Dataset = Dataset.dropna()\n",
        "# print(Dataset.isnull().sum())\n",
        "print(Dataset['horsepower'].unique())\n",
        "\n",
        "X = Dataset.iloc[:,1:-3].values\n",
        "Y = Dataset.iloc[:,0].values"
      ],
      "metadata": {
        "colab": {
          "base_uri": "https://localhost:8080/"
        },
        "id": "U9--PJvDUMq0",
        "outputId": "29aff339-abc3-4e94-8725-766ad1a1e99c"
      },
      "execution_count": 3,
      "outputs": [
        {
          "output_type": "stream",
          "name": "stdout",
          "text": [
            "[130. 165. 150. 140. 198. 220. 215. 225. 190. 170. 160.  95.  97.  85.\n",
            "  88.  46.  87.  90. 113. 200. 210. 193. 100. 105. 175. 153. 180. 110.\n",
            "  72.  86.  70.  76.  65.  69.  60.  80.  54. 208. 155. 112.  92. 145.\n",
            " 137. 158. 167.  94. 107. 230.  49.  75.  91. 122.  67.  83.  78.  52.\n",
            "  61.  93. 148. 129.  96.  71.  98. 115.  53.  81.  79. 120. 152. 102.\n",
            " 108.  68.  58. 149.  89.  63.  48.  66. 139. 103. 125. 133. 138. 135.\n",
            " 142.  77.  62. 132.  84.  64.  74. 116.  82.]\n"
          ]
        }
      ]
    },
    {
      "cell_type": "code",
      "source": [],
      "metadata": {
        "id": "zQxmv9P7fPgg"
      },
      "execution_count": 3,
      "outputs": []
    },
    {
      "cell_type": "markdown",
      "source": [
        "**4. Splitting the dataset**"
      ],
      "metadata": {
        "id": "x3BUwMAsa2RL"
      }
    },
    {
      "cell_type": "code",
      "source": [
        "from sklearn.model_selection import train_test_split\n",
        "X_train, X_test, Y_train, Y_test = train_test_split(X, Y, test_size = 0.2, random_state = 0)"
      ],
      "metadata": {
        "id": "q7DSo74zUPse"
      },
      "execution_count": 4,
      "outputs": []
    },
    {
      "cell_type": "markdown",
      "source": [
        "**5. Feature Scaling**"
      ],
      "metadata": {
        "id": "YjNlK6dtbED2"
      }
    },
    {
      "cell_type": "code",
      "source": [
        "from sklearn.preprocessing import StandardScaler\n",
        "sc = StandardScaler()\n",
        "X_train[:,1:-3] = sc.fit_transform(X_train[:,1:-3])\n",
        "X_test[:,1:-3] = sc.transform(X_test[:,1:-3])"
      ],
      "metadata": {
        "id": "426OPi3TbCtu"
      },
      "execution_count": 5,
      "outputs": []
    },
    {
      "cell_type": "markdown",
      "source": [
        "**6. Building Model on training Dataset**"
      ],
      "metadata": {
        "id": "P4E3xdp6b3Ue"
      }
    },
    {
      "cell_type": "code",
      "source": [
        "from sklearn.linear_model import LinearRegression\n",
        "from sklearn.metrics import mean_squared_error, r2_score\n",
        "regressor = LinearRegression()\n",
        "regressor.fit(X_train, Y_train)\n",
        "y_pred_lin = regressor.predict(X_test)\n",
        "\n",
        "\n",
        "mse_lin = mean_squared_error(Y_test, y_pred_lin)\n",
        "r2_lin = r2_score(Y_test, y_pred_lin)\n",
        "\n",
        "print(f'Linear Regression MSE: {mse_lin}, R2: {r2_lin}')"
      ],
      "metadata": {
        "colab": {
          "base_uri": "https://localhost:8080/"
        },
        "id": "gB1H-9esbkRE",
        "outputId": "ba200371-f222-439c-de28-4b2ec1f4cfbf"
      },
      "execution_count": 7,
      "outputs": [
        {
          "output_type": "stream",
          "name": "stdout",
          "text": [
            "Linear Regression MSE: 19.003530253462976, R2: 0.6942573567797341\n"
          ]
        }
      ]
    },
    {
      "cell_type": "markdown",
      "source": [
        "**7. Building Polynomial Regression on training Dataset**"
      ],
      "metadata": {
        "id": "jEXFyuYnfwOh"
      }
    },
    {
      "cell_type": "code",
      "source": [
        "from sklearn.preprocessing import PolynomialFeatures\n",
        "\n",
        "poly = PolynomialFeatures(degree=4)\n",
        "X_poly = poly.fit_transform(X_train)\n",
        "\n",
        "\n",
        "lin_reg_poly = LinearRegression()\n",
        "lin_reg_poly.fit(X_poly, Y_train)\n",
        "\n",
        "\n",
        "X_test_poly = poly.transform(X_test)\n",
        "y_pred_poly = lin_reg_poly.predict(X_test_poly)\n",
        "\n",
        "# Evaluate Polynomial Regression\n",
        "mse_poly = mean_squared_error(Y_test, y_pred_poly)\n",
        "r2_poly = r2_score(Y_test, y_pred_poly)\n",
        "\n",
        "print(f'Polynomial Regression MSE: {mse_poly}, R2: {r2_poly}')\n"
      ],
      "metadata": {
        "colab": {
          "base_uri": "https://localhost:8080/"
        },
        "id": "87yMxy_gcaty",
        "outputId": "fb368c31-2a53-4628-fe8c-0f74b1ba44a2"
      },
      "execution_count": 8,
      "outputs": [
        {
          "output_type": "stream",
          "name": "stdout",
          "text": [
            "Polynomial Regression MSE: 28.371379545775913, R2: 0.5435405707026353\n"
          ]
        }
      ]
    },
    {
      "cell_type": "code",
      "source": [
        "results_df = pd.DataFrame({\n",
        "    'Actual_MPG': Y_test,\n",
        "    'Linear_Predicted_MPG': y_pred_lin,\n",
        "    'Polynomial_Predicted_MPG': y_pred_poly\n",
        "})\n",
        "\n",
        "# Save to CSV\n",
        "results_df.to_csv('car_mileage_predictions.csv', index=False)\n"
      ],
      "metadata": {
        "id": "z48QsryNgIAH"
      },
      "execution_count": 12,
      "outputs": []
    },
    {
      "cell_type": "code",
      "source": [],
      "metadata": {
        "id": "gtQLYEYRqYFy"
      },
      "execution_count": null,
      "outputs": []
    }
  ]
}